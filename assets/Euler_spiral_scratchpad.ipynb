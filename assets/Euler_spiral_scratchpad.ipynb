{
 "cells": [
  {
   "cell_type": "markdown",
   "metadata": {
    "id": "_s0DNIhCeMWn"
   },
   "source": [
    "This is a scratch notebook I used while developing the code and ideas in my parallel curve blog post, and the Euler spiral functions in kurbo.\n",
    "\n",
    "Copyright 2021 The raphlinus.github.io Authors.\n",
    "\n",
    "Licensed under the Apache License, Version 2.0 (the \"License\");\n",
    "you may not use this file except in compliance with the License.\n",
    "You may obtain a copy of the License at\n",
    "\n",
    "http://www.apache.org/licenses/LICENSE-2.0\n",
    "\n",
    "Unless required by applicable law or agreed to in writing, software\n",
    "distributed under the License is distributed on an \"AS IS\" BASIS,\n",
    "WITHOUT WARRANTIES OR CONDITIONS OF ANY KIND, either express or implied.\n",
    "See the License for the specific language governing permissions and\n",
    "limitations under the License."
   ]
  },
  {
   "cell_type": "code",
   "execution_count": 1,
   "metadata": {
    "colab": {
     "base_uri": "https://localhost:8080/"
    },
    "id": "SsYuTdEVMlVR",
    "outputId": "7430fb87-7735-4215-8064-1318d6bac004"
   },
   "outputs": [
    {
     "name": "stdout",
     "output_type": "stream",
     "text": [
      "Populating the interactive namespace from numpy and matplotlib\n"
     ]
    }
   ],
   "source": [
    "%pylab inline\n",
    "from scipy.misc import central_diff_weights\n"
   ]
  },
  {
   "cell_type": "markdown",
   "metadata": {
    "id": "bDiLmOOGeojo"
   },
   "source": [
    "The following code establishes preliminaries for Euler spirals. All the `integ_euler` functions follow the conventions of chapter 8.1 of my [thesis](https://www.levien.com/phd/thesis.pdf), but leaving out k2 and k3. In other words, it evaluates the following variant of the Fresnel integral (as expressed in complex form):\n",
    "\n",
    "$$\n",
    "\\int_{-0.5}^{0.5} \\exp(i(k_0 s + 1/2\\, k_1 s^2)) \\, ds\n",
    "$$\n",
    "\n",
    "This version has careful error bounds, with a section later in this notebook validating them."
   ]
  },
  {
   "cell_type": "code",
   "execution_count": 2,
   "metadata": {
    "colab": {
     "base_uri": "https://localhost:8080/"
    },
    "id": "3XtQjiFTQq2q",
    "outputId": "69ebec8a-91d8-48f7-b2dc-12248383f2f3"
   },
   "outputs": [
    {
     "data": {
      "text/plain": [
       "(0.9588510772083668, 0.0)"
      ]
     },
     "execution_count": 2,
     "metadata": {},
     "output_type": "execute_result"
    }
   ],
   "source": [
    "def integ_euler_12(k0, k1):\n",
    "  t1_1 = k0\n",
    "  t1_2 = 0.5 * k1\n",
    "  t2_2 = t1_1 * t1_1\n",
    "  t2_3 = 2. * (t1_1 * t1_2)\n",
    "  t2_4 = t1_2 * t1_2\n",
    "  t3_4 = t2_2 * t1_2 + t2_3 * t1_1\n",
    "  t3_6 = t2_4 * t1_2\n",
    "  t4_4 = t2_2 * t2_2\n",
    "  t4_5 = 2. * (t2_2 * t2_3)\n",
    "  t4_6 = 2. * (t2_2 * t2_4) + t2_3 * t2_3\n",
    "  t4_7 = 2. * (t2_3 * t2_4)\n",
    "  t4_8 = t2_4 * t2_4\n",
    "  t5_6 = t4_4 * t1_2 + t4_5 * t1_1\n",
    "  t5_8 = t4_6 * t1_2 + t4_7 * t1_1\n",
    "  t5_10 = t4_8 * t1_2\n",
    "  t6_6 = t4_4 * t2_2\n",
    "  t6_7 = t4_4 * t2_3 + t4_5 * t2_2\n",
    "  t6_8 = t4_4 * t2_4 + t4_5 * t2_3 + t4_6 * t2_2\n",
    "  t6_9 = t4_5 * t2_4 + t4_6 * t2_3 + t4_7 * t2_2\n",
    "  t6_10 = t4_6 * t2_4 + t4_7 * t2_3 + t4_8 * t2_2\n",
    "  t7_8 = t6_6 * t1_2 + t6_7 * t1_1\n",
    "  t7_10 = t6_8 * t1_2 + t6_9 * t1_1\n",
    "  t8_8 = t6_6 * t2_2\n",
    "  t8_9 = t6_6 * t2_3 + t6_7 * t2_2\n",
    "  t8_10 = t6_6 * t2_4 + t6_7 * t2_3 + t6_8 * t2_2\n",
    "  t9_10 = t8_8 * t1_2 + t8_9 * t1_1\n",
    "  t10_10 = t8_8 * t2_2\n",
    "  u = 1.\n",
    "  u -= (1./24.) * t2_2 + (1./160.) * t2_4\n",
    "  u += (1./1920.) * t4_4 + (1./10752.) * t4_6 + (1./55296.) * t4_8\n",
    "  u -= (1./322560.) * t6_6 + (1./1658880.) * t6_8 + (1./8110080.) * t6_10\n",
    "  u += (1./92897280.) * t8_8 + (1./454164480.) * t8_10\n",
    "  u -= 2.4464949595157930e-11 * t10_10\n",
    "  v = (1./12.) * t1_2\n",
    "  v -= (1./480.) * t3_4 + (1./2688.) * t3_6\n",
    "  v += (1./53760.) * t5_6 + (1./276480.) * t5_8 + (1./1351680.) * t5_10\n",
    "  v -= (1./11612160.) * t7_8 + (1./56770560.) * t7_10\n",
    "  v += 2.4464949595157932e-10 * t9_10\n",
    "  return (u, v)\n",
    "\n",
    "def integ_euler_12n(k0, k1, n):\n",
    "  th1 = k0\n",
    "  th2 = 0.5 * k1\n",
    "  ds =  1.0 / n\n",
    "\n",
    "  k0 *= ds\n",
    "  k1 *= ds\n",
    "\n",
    "  x = 0.0\n",
    "  y = 0.0\n",
    "  s = 0.5 * ds - 0.5\n",
    "\n",
    "  for i in range(n):\n",
    "    km0 = k1 * s + k0\n",
    "    km1 = k1 * ds\n",
    "\n",
    "    (u, v) = integ_euler_12(km0, km1)\n",
    "\n",
    "    th = (th2 * s + th1) * s\n",
    "    cth = cos(th)\n",
    "    sth = sin(th)\n",
    "\n",
    "    x += cth * u - sth * v\n",
    "    y += cth * v + sth * u\n",
    "    s += ds\n",
    "  return (x * ds, y * ds)\n",
    "\n",
    "def integ_euler(k0, k1, accuracy = 1e-9):\n",
    "  k0max = abs(k0) + 0.5 * abs(k1)\n",
    "  est_err_raw = 0.006 * k0max ** 2 + 0.029 * abs(k1)\n",
    "  est_err = est_err_raw ** 6\n",
    "  if est_err < accuracy:\n",
    "    return integ_euler_12(k0, k1)\n",
    "  else:\n",
    "    if isnan(est_err_raw / accuracy ** (1./6)):\n",
    "      print(k0, k1, accuracy)\n",
    "    n = int(ceil(est_err_raw / accuracy ** (1./6)))\n",
    "    return integ_euler_12n(k0, k1, n)\n",
    "\n",
    "integ_euler(1, 0)"
   ]
  },
  {
   "cell_type": "markdown",
   "metadata": {
    "id": "1FV7HKdIgAKA"
   },
   "source": [
    "This is an implementation of section 8.2 of the thesis. The secant method converges quadratically, so even ridiculously small error bounds are cheap to compute. The precision is misleading though, unless the `integ_euler` logic above were recalibrated with corresponding accuracy.\n",
    "\n",
    "Also note that the initial calculation of `k1` is approximated using 3rd order polynomials, as opposed to the 1st order approximation in the thesis. The next passage will be trying to develop a 2D Taylor's series from numerical evaluation, using this function as the source of truth."
   ]
  },
  {
   "cell_type": "code",
   "execution_count": 3,
   "metadata": {
    "colab": {
     "base_uri": "https://localhost:8080/"
    },
    "id": "lgFzXmvxUYQ8",
    "outputId": "6cc83777-4153-4d76-ae71-c62ff1bf9b36"
   },
   "outputs": [
    {
     "data": {
      "text/plain": [
       "(0.0, -0.11999988571398887, 0.9999900000547617, -0.004999985714248608)"
      ]
     },
     "execution_count": 3,
     "metadata": {},
     "output_type": "execute_result"
    }
   ],
   "source": [
    "def fit_euler(th0, th1):\n",
    "    k1_old = 0.0\n",
    "    dth = th1 - th0\n",
    "    k0 = th0 + th1\n",
    "    k1 = (6.0 - (1./70.) * dth * dth - 0.1 * k0 * k0) * dth\n",
    "    error_old = dth\n",
    "    for i in range(10):\n",
    "        (u, v) = integ_euler(k0, k1, 1e-15)\n",
    "        chth = arctan2(v, u)\n",
    "        error = dth - (0.25 * k1 - 2.0 * chth)\n",
    "        if abs(error) < 5e-15:\n",
    "            chord = hypot(u, v)\n",
    "            return (k0, k1, chord, chth)\n",
    "        new_k1 = k1 + (k1_old - k1) * error / (error - error_old)\n",
    "        k1_old = k1\n",
    "        error_old = error\n",
    "        k1 = new_k1\n",
    "\n",
    "fit_euler(0.01, -0.01)"
   ]
  },
  {
   "cell_type": "markdown",
   "metadata": {
    "id": "xMZY1nWshozN"
   },
   "source": [
    "The basic approach I use here is [central difference](https://en.wikipedia.org/wiki/Finite_difference), generalized to 2 dimensions. This is okay, but it feels like it's possible to do better. In particular, I think the accuracy of the higher order coefficients is not great. To do better, I'd explore Chebyshev techniques. Unfortunately, while NumPy has pretty good infrastructure for Chebyshev in 1D, it's lacking 2D. Obviously [chebfun](https://www.chebfun.org/) would be a much richer infrastructure, but would require switching to Matlab."
   ]
  },
  {
   "cell_type": "code",
   "execution_count": 4,
   "metadata": {
    "id": "i5WQ-JT6WJQU"
   },
   "outputs": [],
   "source": [
    "def est_derivs(f, nx, ny, delta):\n",
    "  width = 11\n",
    "  for j in range(ny):\n",
    "    jwts = central_diff_weights(width, ndiv = j)\n",
    "    for i in range(nx):\n",
    "      sum = 0\n",
    "      wts = central_diff_weights(width, ndiv = i)\n",
    "      for y, cy in enumerate(jwts):\n",
    "        yy = delta * (y - 0.5 * (width - 1))\n",
    "        for x, cx in enumerate(wts):\n",
    "          xx = delta * (x - 0.5 * (width - 1))\n",
    "          sum += cx * cy * f(xx, yy)\n",
    "        #print('->', cx, xx)\n",
    "      sum /= delta ** (i + j)\n",
    "      print(i, j, sum)\n",
    "\n",
    "#est_derivs(lambda x, y: fit_euler(0.5 * (y - x), 0.5 * (x + y))[1], 8, 8, .1)"
   ]
  },
  {
   "cell_type": "markdown",
   "metadata": {
    "id": "sXo2gBnJjFUi"
   },
   "source": [
    "Here's the same basic algorithm, but adapted to generate code to evaluate the Taylor's series that results from the derivatives. Zero coefficients are suppressed, and it also evaluates a triangle rather than a square, so the total order is bounded."
   ]
  },
  {
   "cell_type": "code",
   "execution_count": 22,
   "metadata": {
    "colab": {
     "base_uri": "https://localhost:8080/"
    },
    "id": "KE07GftVvglL",
    "outputId": "3afdf969-9cbe-4b4e-e441-86fb366f231b"
   },
   "outputs": [
    {
     "name": "stdout",
     "output_type": "stream",
     "text": [
      "  est += 1\n",
      "  est += dth ** 2 * (1. / 40.)\n",
      "  est += dth ** 4 * 0.00028273809628225814\n",
      "  est += dth ** 6 * 4.4684406637814534e-07\n",
      "  est += k0 ** 2 * (1. / 24.)\n",
      "  est += dth ** 2 * k0 ** 2 * -0.0003869047534246003\n",
      "  est += dth ** 4 * k0 ** 2 * -3.6611750357952e-05\n",
      "  est += k0 ** 4 * 0.001215277778091484\n",
      "  est += dth ** 2 * k0 ** 4 * -5.295182630050706e-05\n",
      "  est += k0 ** 6 * 3.203536970805244e-05\n"
     ]
    }
   ],
   "source": [
    "def fmt_coeff(base, exponent):\n",
    "  if exponent == 0:\n",
    "    return ''\n",
    "  elif exponent == 1:\n",
    "    return base + ' * '\n",
    "  else:\n",
    "    return '{} ** {} * '.format(base, exponent)\n",
    "\n",
    "def round_recip(x):\n",
    "  x_recip = 1 / x\n",
    "  if abs(x) > 0.5 and abs(round(x) - x) < 1e-9:\n",
    "    return '{}'.format(round(x))\n",
    "  if abs(round(x_recip) - x_recip) < 0.01:\n",
    "    return '(1. / {}.)'.format(round(x_recip))\n",
    "  else:\n",
    "    return '{}'.format(x)\n",
    "\n",
    "def est_coeffs(f, n, delta):\n",
    "  width = 11\n",
    "  for j in range(n + 1):\n",
    "    jwts = central_diff_weights(width, ndiv = j)\n",
    "    for i in range(n - j + 1):\n",
    "      sum = 0\n",
    "      wts = central_diff_weights(width, ndiv = i)\n",
    "      for y, cy in enumerate(jwts):\n",
    "        yy = delta * (y - 0.5 * (width - 1))\n",
    "        for x, cx in enumerate(wts):\n",
    "          xx = delta * (x - 0.5 * (width - 1))\n",
    "          sum += cx * cy * f(xx, yy)\n",
    "        #print('->', cx, xx)\n",
    "      sum /= delta ** (i + j)\n",
    "      sum /= math.factorial(i) * math.factorial(j)\n",
    "      if abs(sum) > 1e-9:\n",
    "        #print(i, j, sum, 1/sum)\n",
    "        print('  est += {}{}{}'.format(fmt_coeff('dth', i), fmt_coeff('k0', j), round_recip(sum)))\n",
    "\n",
    "est_coeffs(lambda x, y: 1/fit_euler(0.5 * (y - x), 0.5 * (x + y))[2], 7, .1)"
   ]
  },
  {
   "cell_type": "markdown",
   "metadata": {
    "id": "JNxYNQ-zj4sF"
   },
   "source": [
    "And here are functions based on `est_coeffs` above, usually going up to 7th order polynomials, and in some cases with hand tuning. I believe (without any kind of proof) that the coefficients are reciprocals of integers, which is pretty clear for many of the lower order terms (and I've tweaked the formatting code to round to the reciprocal), but accuracy degrades beyond that. If we could calculate the derivates more accurately and this hypothesis is true, we should be able to get the exact values by rounding the reciprocals.\n",
    "\n",
    "In theory it should be possible to get exact values analytically as well (as is done in the thesis to the first order), but that seems challenging."
   ]
  },
  {
   "cell_type": "code",
   "execution_count": 6,
   "metadata": {
    "colab": {
     "base_uri": "https://localhost:8080/"
    },
    "id": "XUu6H_g1jP8u",
    "outputId": "3a1195f3-4e4b-4502-de80-2d1cba936ffc"
   },
   "outputs": [
    {
     "data": {
      "text/plain": [
       "-7.603220364416075e-08"
      ]
     },
     "execution_count": 6,
     "metadata": {},
     "output_type": "execute_result"
    }
   ],
   "source": [
    "def est_k1(th0, th1):\n",
    "  k0 = th0 + th1\n",
    "  dth = th1 - th0\n",
    "  est = dth * 6\n",
    "  est += dth ** 3 * (1. / -70.)\n",
    "  est += dth ** 5 * (1. / -10780.)\n",
    "  est += dth ** 7 * 2.769178184818219e-07\n",
    "  est += dth * k0 ** 2 * (1. / -10.)\n",
    "  est += dth ** 3 * k0 ** 2 * (1. / 4200.)\n",
    "  est += dth ** 5 * k0 ** 2 * 1.6959677820260655e-05\n",
    "  est += dth * k0 ** 4 * (1. / -1400.)\n",
    "  est += dth ** 3 * k0 ** 4 * 6.84915970574303e-05\n",
    "  est += dth * k0 ** 6 * -7.936475029053326e-06\n",
    "  return est\n",
    "\n",
    "def e(th0, th1):\n",
    "  return fit_euler(th0, th1)[1] - est_k1(th0, th1)\n",
    "\n",
    "e(0.6, -0.6)"
   ]
  },
  {
   "cell_type": "markdown",
   "metadata": {
    "id": "ya34ULkelFO9"
   },
   "source": [
    "The other values from `fit_euler` can also be approximated using a 2D Taylor's series. It's *probably* a win to compute these directly rather than hitting `integ_euler` after getting a value for k1, but likely not a huge win, as the latter should be pretty cheap.\n",
    "\n",
    "Again the low order coefficients are reciprocals of integers.\n",
    "\n",
    "Note that if k1 = 0, this is equal to sinc(k1/2), which certainly predicts the coefficients for the terms involving k0 only."
   ]
  },
  {
   "cell_type": "code",
   "execution_count": 7,
   "metadata": {
    "colab": {
     "base_uri": "https://localhost:8080/"
    },
    "id": "OmzAZ763phFp",
    "outputId": "000af3d3-8058-4e06-e3d5-5100104ffe6c"
   },
   "outputs": [
    {
     "data": {
      "text/plain": [
       "5.405147440740166e-09"
      ]
     },
     "execution_count": 7,
     "metadata": {},
     "output_type": "execute_result"
    }
   ],
   "source": [
    "def est_ch(th0, th1):\n",
    "  k0 = th0 + th1\n",
    "  dth = th1 - th0\n",
    "  est = 1\n",
    "  est += dth ** 2 * (1. / -40.)\n",
    "  est += dth ** 4 * 0.00034226190482569864\n",
    "  est += dth ** 6 * -1.9349474568904524e-06\n",
    "  est += k0 ** 2 * (1. / -24.)\n",
    "  est += dth ** 2 * k0 ** 2 * 0.0024702380951963226\n",
    "  est += dth ** 4 * k0 ** 2 * -3.7297408997537985e-05\n",
    "  est += k0 ** 4 * (1. / 1920.)\n",
    "  est += dth ** 2 * k0 ** 4 * -4.87350869747975e-05\n",
    "  est += k0 ** 6 * -3.1001936068463107e-06\n",
    "  return est\n",
    "\n",
    "def e_ch(th0, th1):\n",
    "  return fit_euler(th0, th1)[2] - est_ch(th0, th1)\n",
    "\n",
    "e_ch(0.6, -0.6)"
   ]
  },
  {
   "cell_type": "code",
   "execution_count": 8,
   "metadata": {
    "colab": {
     "base_uri": "https://localhost:8080/"
    },
    "id": "x3nI0Cki0HU_",
    "outputId": "5f04edb2-9a13-44e8-bfe8-c878cde46891"
   },
   "outputs": [
    {
     "data": {
      "text/plain": [
       "-3.6938566355670943e-07"
      ]
     },
     "execution_count": 8,
     "metadata": {},
     "output_type": "execute_result"
    }
   ],
   "source": [
    "def est_chth(th0, th1):\n",
    "  k0 = th0 + th1\n",
    "  dth = th1 - th0\n",
    "  return 0.125 * est_k1(th0, th1) - 0.5 * dth\n",
    "\n",
    "def e_chth(th0, th1):\n",
    "  return fit_euler(th0, th1)[3] - est_chth(th0, th1)\n",
    "\n",
    "e_chth(0.9, -0.9)"
   ]
  },
  {
   "cell_type": "markdown",
   "metadata": {
    "id": "jZTZpdB_q3EZ"
   },
   "source": [
    "Here we introduce an Euler spiral segment and code to approximate its parallel curve.\n",
    "\n",
    "It's worth discussing the error metric. It's basically the L2 norm of the distance error between the two curves when evaluated with arclength parametrization. It's expected to correlate strongly with Hausdorff distance, but be more tractable to evaluate. The points are evenly sampled (by arclength) on the Euler spiral, and the exact arclength parametrization from the Wieleitner paper (attributed to Cesàro)."
   ]
  },
  {
   "cell_type": "code",
   "execution_count": 9,
   "metadata": {
    "id": "b3vU_tED9b8l"
   },
   "outputs": [],
   "source": [
    "class Point:\n",
    "  def __init__(self, x, y):\n",
    "    self.x = x\n",
    "    self.y = y\n",
    "\n",
    "  def __repr__(self):\n",
    "    return 'Point({}, {})'.format(self.x, self.y)\n",
    "\n",
    "  def __sub__(self, other):\n",
    "    return Point(self.x - other.x, self.y - other.y)\n",
    "\n",
    "  def __add__(self, other):\n",
    "    return Point(self.x + other.x, self.y + other.y)\n",
    "\n",
    "  def __rmul__(self, other):\n",
    "    return Point(other * self.x, other * self.y)\n",
    "\n",
    "  def hypot2(self):\n",
    "    return self.x ** 2 + self.y ** 2\n",
    "\n",
    "  def hypot(self):\n",
    "    return hypot(self.x, self.y)\n",
    "\n",
    "  @staticmethod\n",
    "  def from_angle(th):\n",
    "    return Point(cos(th), sin(th))\n",
    "\n",
    "class ApproxResult:\n",
    "  def __init__(self, seg, dth):\n",
    "    self.seg = seg\n",
    "    self.dth = dth\n",
    "\n",
    "class EulerSeg:\n",
    "  # th0 and th1 are deflections relative to the chord\n",
    "  def __init__(self, p0, p1, th0, th1):\n",
    "    self.params = fit_euler(th0, th1)\n",
    "    self.p0 = p0\n",
    "    self.p1 = p1\n",
    "\n",
    "  def arclen(self):\n",
    "    return hypot(self.p0.y - self.p1.y, self.p0.x - self.p1.x) / self.params[2]\n",
    "\n",
    "  # return theta relative to chord.\n",
    "  # Sign is confusing (= -th0 at t = 0, th1 at t = 1), but matches spiro code\n",
    "  def th(self, t):\n",
    "    u = t - 0.5\n",
    "    return (0.5 * self.params[1] * u + self.params[0]) * u - self.params[3]\n",
    "\n",
    "  def eval(self, t):\n",
    "    thm = self.th(t * 0.5)\n",
    "    k0 = self.params[0]\n",
    "    k1 = self.params[1]\n",
    "    u, v = integ_euler((k0 + k1 * 0.5 * (t - 1.0)) * t, k1 * t * t)\n",
    "    s = t / self.params[2] * sin(thm)\n",
    "    c = t / self.params[2] * cos(thm)\n",
    "    x = u * c - v * s\n",
    "    y = -v * c - u * s\n",
    "    xx = self.p0.x + (self.p1.x - self.p0.x) * x - (self.p1.y - self.p0.y) * y\n",
    "    yy = self.p0.y + (self.p1.x - self.p0.x) * y + (self.p1.y - self.p0.y) * x\n",
    "    return Point(xx, yy)\n",
    "\n",
    "  # return the actual signed curvature\n",
    "  def curvature(self, t):\n",
    "    k = self.params[0] + self.params[1] * (t - 0.5)\n",
    "    return k / self.arclen()\n",
    "\n",
    "  # Approximate a parallel curve\n",
    "  def approx_parallel(self, offset):\n",
    "    chord_scale = offset / hypot(self.p1.y - self.p0.y, self.p1.x - self.p0.x)\n",
    "    x0 = chord_scale * sin(self.th(0))\n",
    "    y0 = chord_scale * cos(self.th(0))\n",
    "    x1 = chord_scale * sin(self.th(1))\n",
    "    y1 = chord_scale * cos(self.th(1))\n",
    "    dth = arctan2(y1 - y0, 1 + x1 - x0)\n",
    "    p0 = Point(self.p0.x + x0, self.p0.y + y0)\n",
    "    p1 = Point(self.p1.x + x1, self.p1.y + y1)\n",
    "    seg = EulerSeg(p0, p1, -self.th(0) - dth, self.th(1) + dth)\n",
    "    return ApproxResult(seg, dth)\n",
    "\n",
    "  # assume 0,0 - 1,0 chord in source for simplicity\n",
    "  def approx_parallel_err(self, offset, n = 10):\n",
    "    approx = self.approx_parallel(offset)\n",
    "    sum = 0\n",
    "    pts = []\n",
    "    pts2 = []\n",
    "    t_scale = offset * self.params[2]\n",
    "    t0 = t_scale * self.th(0)\n",
    "    t1 = 1 + t_scale * self.th(1)\n",
    "    for i in range(-1, n + 1):\n",
    "      # parameter at base\n",
    "      t = (i + 1.0) / (n + 1.0)\n",
    "      base = self.eval(t)\n",
    "      th = self.th(t)\n",
    "      actual = Point(base.x + offset * sin(th), base.y + offset * cos(th))\n",
    "      pts.append(actual)\n",
    "      t_mapped = (t + t_scale * th - t0) / (t1 - t0)\n",
    "      pts2.append(approx.seg.eval(t_mapped))\n",
    "      sum += (actual - approx.seg.eval(t_mapped)).hypot2()\n",
    "    sum = sqrt(sum / (n + 1.0))\n",
    "    return (sum, pts, pts2)\n",
    "\n",
    "  def est_err2(self, offset):\n",
    "    chord_scale = offset / hypot(self.p1.y - self.p0.y, self.p1.x - self.p0.x)\n",
    "    x0 = chord_scale * sin(self.th(0))\n",
    "    y0 = chord_scale * cos(self.th(0))\n",
    "    x1 = chord_scale * sin(self.th(1))\n",
    "    y1 = chord_scale * cos(self.th(1))\n",
    "    return hypot(x0 + x1, y0 - y1)\n",
    "\n",
    "def est_err(th0, th1, offset):\n",
    "  return 0.179284 * (th0 - th1) ** 2 * offset\n",
    "\n",
    "\n"
   ]
  },
  {
   "cell_type": "markdown",
   "metadata": {
    "id": "Y_h2Kp2AtCMk"
   },
   "source": [
    "I kept this image partly because it's pretty. It's a series of approximations of parallel curves from the original Euler spiral, each of which is an Euler spiral determined from geometric (G1) Hermite interpolation. Obviously as the offset increases, the true parallel curve gets a cusp, but the Euler spirals don't reflect that."
   ]
  },
  {
   "cell_type": "code",
   "execution_count": 10,
   "metadata": {
    "colab": {
     "base_uri": "https://localhost:8080/",
     "height": 265
    },
    "id": "5X2A6edcTk4y",
    "outputId": "cb8e6154-42b4-47c8-deac-5268249f2a41"
   },
   "outputs": [
    {
     "data": {
      "image/png": "[encoded data removed]",
      "text/plain": [
       "<Figure size 432x288 with 1 Axes>"
      ]
     },
     "metadata": {
      "needs_background": "light"
     },
     "output_type": "display_data"
    }
   ],
   "source": [
    "es = EulerSeg(Point(0, 0), Point(1, 0), -1, -0)\n",
    "def plot_es(es):\n",
    "  pts = [es.eval(t) for t in linspace(0, 1, 50)]\n",
    "  plt.plot([p.x for p in pts], [p.y for p in pts])\n",
    "plt.axes().set_aspect('equal')\n",
    "plot_es(es)\n",
    "for i in range(10):\n",
    "  plot_es(es.approx_parallel(0.1 * (i + 1)).seg)"
   ]
  },
  {
   "cell_type": "markdown",
   "metadata": {
    "id": "2b6n1tkftmGp"
   },
   "source": [
    "Here's a plot of an Euler spiral segment approximation and a true parallel curve, very close to a cusp."
   ]
  },
  {
   "cell_type": "code",
   "execution_count": 11,
   "metadata": {
    "colab": {
     "base_uri": "https://localhost:8080/",
     "height": 282
    },
    "id": "b1ZKV-TFQ17s",
    "outputId": "2827d3b2-36d0-47ee-a4f6-0793b9ab3318"
   },
   "outputs": [
    {
     "data": {
      "text/plain": [
       "(0.006719802334824395, 0.0063379668234947876)"
      ]
     },
     "execution_count": 11,
     "metadata": {},
     "output_type": "execute_result"
    },
    {
     "data": {
      "image/png": "[encoded data removed]",
      "text/plain": [
       "<Figure size 432x288 with 1 Axes>"
      ]
     },
     "metadata": {
      "needs_background": "light"
     },
     "output_type": "display_data"
    }
   ],
   "source": [
    "a = -0.3\n",
    "b = a - 0.1\n",
    "offset = 1.1\n",
    "seg = EulerSeg(Point(0, 0), Point(1, 0), a, b)\n",
    "approx = seg.approx_parallel(offset)\n",
    "err, pts, pts2 = seg.approx_parallel_err(offset)\n",
    "plt.axes().set_aspect('equal')\n",
    "plt.plot([p.x for p in pts], [p.y for p in pts])\n",
    "plt.plot([p.x for p in pts2], [p.y for p in pts2])\n",
    "plot_es(seg)\n",
    "#plot_es(approx.seg)\n",
    "#(err, est_err(a, b, offset))\n",
    "\n",
    "# The following estimate works ok when k0 is large wrt\n",
    "# k1, but nulls out when k0 = 0\n",
    "#(err, 0.02935 * approx.dth)\n",
    "\n",
    "(err, seg.approx_parallel_err(offset, n = 1)[0])\n",
    "\n",
    "#(err, 0.04 * seg.est_err2(offset))"
   ]
  },
  {
   "cell_type": "markdown",
   "metadata": {
    "id": "P6NGoxE7twMj"
   },
   "source": [
    "This plot is strong empirical evidence that error scales as the reciprocal of the distance of the *midpoint* to the cusp."
   ]
  },
  {
   "cell_type": "code",
   "execution_count": 12,
   "metadata": {
    "colab": {
     "base_uri": "https://localhost:8080/",
     "height": 282
    },
    "id": "BmaLMGSDcALr",
    "outputId": "c5895c65-d732-4566-c042-d4eb118f85f4"
   },
   "outputs": [
    {
     "data": {
      "text/plain": [
       "[<matplotlib.lines.Line2D at 0x1f8ddcafbe0>]"
      ]
     },
     "execution_count": 12,
     "metadata": {},
     "output_type": "execute_result"
    },
    {
     "data": {
      "image/png": "[encoded data removed]",
      "text/plain": [
       "<Figure size 432x288 with 1 Axes>"
      ]
     },
     "metadata": {
      "needs_background": "light"
     },
     "output_type": "display_data"
    }
   ],
   "source": [
    "a = -0.6\n",
    "b = a - 0.01\n",
    "es = EulerSeg(Point(0, 0), Point(1, 0), a, b)\n",
    "xs = []\n",
    "ys = []\n",
    "for x in linspace(0.01, 0.87):\n",
    "  xs.append(x)\n",
    "  err, pts, pts2 = es.approx_parallel_err(x)\n",
    "  y = x/err\n",
    "  ys.append(abs(y))\n",
    "plt.plot(xs, ys)\n"
   ]
  },
  {
   "cell_type": "code",
   "execution_count": 13,
   "metadata": {
    "colab": {
     "base_uri": "https://localhost:8080/"
    },
    "id": "mWjaT1PaNAxx",
    "outputId": "b07b289f-1bee-4e4b-bcdb-b7d890a3d8d0"
   },
   "outputs": [
    {
     "data": {
      "text/plain": [
       "-0.8791042224513504"
      ]
     },
     "execution_count": 13,
     "metadata": {},
     "output_type": "execute_result"
    }
   ],
   "source": [
    "2/(es.curvature(0) + es.curvature(1))\n",
    "ctr = 1/(es.params[0] * es.params[2])\n",
    "ctr"
   ]
  },
  {
   "cell_type": "markdown",
   "metadata": {
    "id": "WE-ygbrLuBNk"
   },
   "source": [
    "And here's a simple analytical formula for estimating the error of approximating the parallel curve of an Euler spiral with another Euler spiral. It's worked out empirically, but predicts the measured error well."
   ]
  },
  {
   "cell_type": "code",
   "execution_count": 14,
   "metadata": {
    "colab": {
     "base_uri": "https://localhost:8080/"
    },
    "id": "NoiZeJZcQnwM",
    "outputId": "5883eb3d-2391-4fc2-a0ef-2f1417c269ff"
   },
   "outputs": [
    {
     "data": {
      "text/plain": [
       "(0.0057385348684406345, 0.005738534868440635)"
      ]
     },
     "execution_count": 14,
     "metadata": {},
     "output_type": "execute_result"
    }
   ],
   "source": [
    "a = -0.3\n",
    "b = a - 0.1\n",
    "offset = 1.0\n",
    "es = EulerSeg(Point(0, 0), Point(1, 0), a, b)\n",
    "# This is a pretty good estimate.\n",
    "def new_est_err(es, offset):\n",
    "  radius = 1/(es.params[0] * es.params[2])\n",
    "  return 0.00499 * abs(offset * radius / (offset + radius) * es.params[1] ** 2 / es.params[2])\n",
    "#new_est_err(es, offset) / es.approx_parallel_err(offset)[0], es.params\n",
    "\n",
    "# Algebraic reformulation, probably easier to work with\n",
    "def new_est_err_2(es, offset):\n",
    "  k0 = es.params[0] * es.params[2]\n",
    "  return 0.00499 * abs(1 / (k0 + 1/offset) * es.params[1] ** 2) / es.params[2]\n",
    "new_est_err_2(es, offset), new_est_err(es, offset)\n"
   ]
  },
  {
   "cell_type": "markdown",
   "metadata": {
    "id": "e3Ph2Iqxvqq4"
   },
   "source": [
    "This is some somewhat tricky logic for analytically determining the subdivisions for approximating an Euler spiral parallel curve. Basically, the goals are: all errors should be under the given threshold, and within that constraint, the number of subdivisions should be minimal. That implies that the error of each subdivision is equal.\n",
    "\n",
    "The fundamental insight here is that if the subdivision points (as measured on the source curve) are chosen as $s = s_0 + (i \\cdot \\Delta s)^\\frac{4}{3}$, where $s_0$ is the location of the cusp, then errors will be approximately equal. In fact, the error is *slightly* lower just near the cusp, "
   ]
  },
  {
   "cell_type": "code",
   "execution_count": 15,
   "metadata": {
    "colab": {
     "base_uri": "https://localhost:8080/"
    },
    "id": "aq-U-XsJ6X9f",
    "outputId": "38b79900-53d6-4b18-ee93-8ff9a1ad8371"
   },
   "outputs": [
    {
     "name": "stdout",
     "output_type": "stream",
     "text": [
      "0.02294503683788801 0.6057969056078494\n",
      "0.0057385348684406345 1.3366077583140041 0.0001\n"
     ]
    },
    {
     "data": {
      "text/plain": [
       "[5.952536378197542e-18,\n",
       " 0.25736795635726306,\n",
       " 0.6008390258216808,\n",
       " 1.0000000000000004]"
      ]
     },
     "execution_count": 15,
     "metadata": {},
     "output_type": "execute_result"
    }
   ],
   "source": [
    "# Here c, is min s / max s, where s is distance from cusp\n",
    "def predict_rel(c):\n",
    "  return (4./3. * (1 - (1 - c) ** .75) / c) ** 4 * (1 - .5 * c)\n",
    "def spl(t0, t1, n = 10):\n",
    "  c0 = t0 ** 0.75\n",
    "  dt = (t1 ** 0.75 - c0) / n\n",
    "  return [((c0 + i * dt) ** (4./3.) - t0) / (t1 - t0) for i in range(n+1)]\n",
    "def subdiv(es, offset, thresh):\n",
    "  e = new_est_err_2(es, offset)\n",
    "  k0 = es.params[0] * es.params[2]\n",
    "  t0 = abs(k0 + 1/offset) - 0.5 * abs(es.params[1] * es.params[2])\n",
    "  t1 = abs(k0 + 1/offset) + 0.5 * abs(es.params[1] * es.params[2])\n",
    "  if t0 < 0:\n",
    "    print('cusp at', -t0 / (t1 - t0))\n",
    "    t0 = 0\n",
    "  print(t0, t1)\n",
    "  p = predict_rel(1 - t0/t1)\n",
    "  print(e, p, thresh)\n",
    "  n = int(ceil((e * p / thresh) ** 0.25))\n",
    "  # Note: split assumes cusp is at s < 0 etc; check signs of t0, t1\n",
    "  return spl(t0, t1, n)\n",
    "\n",
    "subdiv(es, offset, 1e-4)"
   ]
  },
  {
   "cell_type": "markdown",
   "metadata": {
    "id": "f_elepZLyAF5"
   },
   "source": [
    "This is an experiment in rendering an Euler spiral parallel curve to a cubic Bézier. It's promising, but the choice of control arm lengths feels a bit hacky and heuristic, and it's not clear to me yet how accuracy scales.\n",
    "\n",
    "It's interesting to note that a cubic Bézier *can* approximate the cusp in an ESPC pretty well, because it can represent an exact [semicubical parabola](https://en.wikipedia.org/wiki/Semicubical_parabola), but that's not especially helpful as you get farther from the cusp.\n",
    "\n",
    "In any case, the best accuracy scaling you can expect from a direct approach (based on the parabola method for ES control arms, as described in the blog post) is $n^5$ in the zero offset case. I think whether this method is worth pursuing depends on the goals. If the goal is a minimum number of subdivisions into cubic Béziers, then probably the best approach is to do real optimized curve fitting, for which a piecewise Euler spiral representation is likely most efficient. I'll leave this here as possible future work."
   ]
  },
  {
   "cell_type": "code",
   "execution_count": 16,
   "metadata": {
    "colab": {
     "base_uri": "https://localhost:8080/",
     "height": 146
    },
    "id": "FF8o4akkr5eq",
    "outputId": "401479c2-ee63-4b28-f40b-e7515ebdd549"
   },
   "outputs": [
    {
     "name": "stdout",
     "output_type": "stream",
     "text": [
      "0.05318579874202456 5.838220834072745 (-0.3999999999999999, 6.726220666841354, 0.962606922066669, 0.2770390658155192)\n",
      "0.5090276910179282 1.4909723089820717\n"
     ]
    },
    {
     "data": {
      "image/png": "[encoded data removed]",
      "text/plain": [
       "<Figure size 432x288 with 1 Axes>"
      ]
     },
     "metadata": {
      "needs_background": "light"
     },
     "output_type": "display_data"
    }
   ],
   "source": [
    "def offset_to_cubic(es, offset):\n",
    "  k0 = es.params[0] * es.params[2]\n",
    "  t0 = k0 + 1/offset - 0.5 * es.params[1] * es.params[2]\n",
    "  t1 = k0 + 1/offset + 0.5 * es.params[1] * es.params[2]\n",
    "  es2 = es.approx_parallel(offset)\n",
    "  d = es2.seg.p1 - es2.seg.p0\n",
    "  print(t0, t1, es2.seg.params)\n",
    "  th0 = -es2.seg.th(0)\n",
    "  th1 = es2.seg.th(1)\n",
    "  c0, s0 = cos(th0), sin(th0)\n",
    "  c1, s1 = cos(th1), sin(th1)\n",
    "  r0 = 0.5 + t0 / (t0 + t1)\n",
    "  r1 = 0.5 + t1 / (t0 + t1)\n",
    "  print(r0, r1)\n",
    "  l0 = 2.0 * r0 / (3.0 * (1 + c0))\n",
    "  l1 = 2.0 * r1 / (3.0 * (1 + c1))\n",
    "  d0 = l0 * Point.from_angle(th0)\n",
    "  d1 = -l1 * Point.from_angle(-th1)\n",
    "  p1 = es2.seg.p0 + Point(d.x * d0.x - d.y * d0.y, d.x * d0.y + d.y * d0.x)\n",
    "  p2 = es2.seg.p1 + Point(d.x * d1.x - d.y * d1.y, d.x * d1.y + d.y * d1.x)\n",
    "  return (es2.seg.p0, p1, p2, es2.seg.p1)\n",
    "\n",
    "# Should be a class, ah well\n",
    "def eval_cubic(cubic, t):\n",
    "  p0, p1, p2, p3 = cubic\n",
    "  mt = 1 - t\n",
    "  return mt ** 3 * p0 + 3 * mt * t * (mt * p1 + t * p2) + t ** 3 * p3\n",
    "\n",
    "def plot_cubic(cubic):\n",
    "  pts = [eval_cubic(cubic, t) for t in linspace(0, 1, 50)]\n",
    "  plt.plot([p.x for p in pts], [p.y for p in pts])\n",
    "\n",
    "seg = EulerSeg(Point(0, 0), Point(1, 0), -0.7, 0.3)\n",
    "offset = 0.3\n",
    "err, pts, pts2 = seg.approx_parallel_err(offset, 50)\n",
    "plt.axes().set_aspect('equal')\n",
    "plt.plot([p.x for p in pts], [p.y for p in pts])\n",
    "plot_cubic(offset_to_cubic(seg, offset))\n",
    "#plt.plot([p.x for p in pts2], [p.y for p in pts2])\n",
    "#plot_es(seg)\n"
   ]
  },
  {
   "cell_type": "markdown",
   "metadata": {
    "id": "ywRE-h67gJPr"
   },
   "source": [
    "Following few cells are to establish rigorous error bounds on the Euler integration code."
   ]
  },
  {
   "cell_type": "code",
   "execution_count": 17,
   "metadata": {
    "colab": {
     "base_uri": "https://localhost:8080/",
     "height": 269
    },
    "id": "kesOZlEuVlDA",
    "outputId": "8eab97c0-08d0-4ffd-b6f1-3c1011f44a2c"
   },
   "outputs": [
    {
     "data": {
      "image/png": "[encoded data removed]",
      "text/plain": [
       "<Figure size 432x288 with 1 Axes>"
      ]
     },
     "metadata": {
      "needs_background": "light"
     },
     "output_type": "display_data"
    }
   ],
   "source": [
    "def est_integ_euler_err(k0, k1, n = 1):\n",
    "  k0max = abs(k0) + 0.5 * abs(k1)\n",
    "  est_err_raw = 0.006 * k0max ** 2 + 0.029 * abs(k1)\n",
    "  return n ** -12 * est_err_raw ** 6\n",
    "\n",
    "def actual_integ_euler_err(k0, k1, n = 1):\n",
    "  actual = integ_euler_12n(k0, k1, 8)\n",
    "  approx = integ_euler_12n(k0, k1, n)\n",
    "  err = hypot(actual[0] - approx[0], actual[1] - approx[1])\n",
    "  return err\n",
    "\n",
    "xs = list(linspace(0, 2))[1:]\n",
    "k1 = 0.1\n",
    "n = 1\n",
    "ys1 = []\n",
    "ys2 = []\n",
    "for k0 in xs:\n",
    "  ys1.append(est_integ_euler_err(k0, k1, n))\n",
    "  ys2.append(actual_integ_euler_err(k0, k1, n))\n",
    "plt.plot(xs, ys1)\n",
    "plt.plot(xs, ys2)\n",
    "plt.xscale('log')\n",
    "plt.yscale('log')"
   ]
  },
  {
   "cell_type": "code",
   "execution_count": 18,
   "metadata": {
    "colab": {
     "base_uri": "https://localhost:8080/"
    },
    "id": "1sK8KrmC9e0g",
    "outputId": "2effb412-aa4c-483e-85ba-26d1baaabdcf"
   },
   "outputs": [
    {
     "data": {
      "text/plain": [
       "(10.452623649390132, 0.35657795617376653, 0.356577956173766)"
      ]
     },
     "execution_count": 18,
     "metadata": {},
     "output_type": "execute_result"
    }
   ],
   "source": [
    "def check(th0, th1):\n",
    "  es = fit_euler(th0, th1)\n",
    "  return (es[1], es[1] / 8 - 0.5 * (th1 - th0), es[3])\n",
    "check(0.1, 2)"
   ]
  },
  {
   "cell_type": "code",
   "execution_count": 19,
   "metadata": {
    "id": "mNEVHHl4cKf-"
   },
   "outputs": [],
   "source": [
    "# Randomized testing to validate the error bound\n",
    "n = 3\n",
    "for i in range(1000):\n",
    "  k0 = rand()\n",
    "  k1 = 5 * rand()\n",
    "  actual = actual_integ_euler_err(k0, k1)\n",
    "  if actual > 1e-14:\n",
    "    est = est_integ_euler_err(k0, k1)\n",
    "    if est < actual:\n",
    "      print(k0, k1, est, actual)"
   ]
  },
  {
   "cell_type": "code",
   "execution_count": 20,
   "metadata": {
    "colab": {
     "base_uri": "https://localhost:8080/"
    },
    "id": "DXkCLy9oIant",
    "outputId": "012f1e0a-c8cd-468e-ba69-8ba1c654950e"
   },
   "outputs": [
    {
     "data": {
      "text/plain": [
       "(0.30000000000000004,\n",
       " 0.5990851562066671,\n",
       " 0.9960064696479229,\n",
       " 0.024885644525833393)"
      ]
     },
     "execution_count": 20,
     "metadata": {},
     "output_type": "execute_result"
    }
   ],
   "source": [
    "EulerSeg(Point(0, 0), Point(1, 0), 0.1, 0.2).params"
   ]
  }
 ],
 "metadata": {
  "colab": {
   "collapsed_sections": [],
   "name": "Euler spiral scratchpad.ipynb",
   "provenance": []
  },
  "kernelspec": {
   "display_name": "Python 3",
   "language": "python",
   "name": "python3"
  },
  "language_info": {
   "codemirror_mode": {
    "name": "ipython",
    "version": 3
   },
   "file_extension": ".py",
   "mimetype": "text/x-python",
   "name": "python",
   "nbconvert_exporter": "python",
   "pygments_lexer": "ipython3",
   "version": "3.8.5"
  }
 },
 "nbformat": 4,
 "nbformat_minor": 1
}
