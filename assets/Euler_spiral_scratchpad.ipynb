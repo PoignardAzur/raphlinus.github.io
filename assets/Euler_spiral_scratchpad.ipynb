{
  "nbformat": 4,
  "nbformat_minor": 0,
  "metadata": {
    "colab": {
      "name": "Euler spiral scratchpad.ipynb",
      "provenance": [],
      "collapsed_sections": []
    },
    "kernelspec": {
      "name": "python3",
      "display_name": "Python 3"
    }
  },
  "cells": [
    {
      "cell_type": "markdown",
      "metadata": {
        "id": "_s0DNIhCeMWn"
      },
      "source": [
        "This is a scratch notebook I used while developing the code and ideas in my parallel curve blog post, and the Euler spiral functions in kurbo.\r\n",
        "\r\n",
        "Copyright 2021 The raphlinus.github.io Authors.\r\n",
        "\r\n",
        "Licensed under the Apache License, Version 2.0 (the \"License\");\r\n",
        "you may not use this file except in compliance with the License.\r\n",
        "You may obtain a copy of the License at\r\n",
        "\r\n",
        "http://www.apache.org/licenses/LICENSE-2.0\r\n",
        "\r\n",
        "Unless required by applicable law or agreed to in writing, software\r\n",
        "distributed under the License is distributed on an \"AS IS\" BASIS,\r\n",
        "WITHOUT WARRANTIES OR CONDITIONS OF ANY KIND, either express or implied.\r\n",
        "See the License for the specific language governing permissions and\r\n",
        "limitations under the License."
      ]
    },
    {
      "cell_type": "code",
      "metadata": {
        "colab": {
          "base_uri": "https://localhost:8080/"
        },
        "id": "SsYuTdEVMlVR",
        "outputId": "7430fb87-7735-4215-8064-1318d6bac004"
      },
      "source": [
        "%pylab inline\r\n",
        "from scipy.misc import central_diff_weights\r\n"
      ],
      "execution_count": 2,
      "outputs": [
        {
          "output_type": "stream",
          "text": [
            "Populating the interactive namespace from numpy and matplotlib\n"
          ],
          "name": "stdout"
        }
      ]
    },
    {
      "cell_type": "markdown",
      "metadata": {
        "id": "bDiLmOOGeojo"
      },
      "source": [
        "The following code establishes preliminaries for Euler spirals. All the `integ_euler` functions follow the conventions of chapter 8.1 of my [thesis](https://www.levien.com/phd/thesis.pdf), but leaving out k2 and k3. In other words, it evaluates the following variant of the Fresnel integral (as expressed in complex form):\r\n",
        "\r\n",
        "$$\r\n",
        "\\int_{-0.5}^{0.5} \\exp(i(k_0 s + 1/2\\, k_1 s^2)) \\, ds\r\n",
        "$$\r\n",
        "\r\n",
        "This version has careful error bounds, with a section later in this notebook validating them."
      ]
    },
    {
      "cell_type": "code",
      "metadata": {
        "colab": {
          "base_uri": "https://localhost:8080/"
        },
        "id": "3XtQjiFTQq2q",
        "outputId": "69ebec8a-91d8-48f7-b2dc-12248383f2f3"
      },
      "source": [
        "def integ_euler_12(k0, k1):\r\n",
        "  t1_1 = k0\r\n",
        "  t1_2 = 0.5 * k1\r\n",
        "  t2_2 = t1_1 * t1_1\r\n",
        "  t2_3 = 2. * (t1_1 * t1_2)\r\n",
        "  t2_4 = t1_2 * t1_2\r\n",
        "  t3_4 = t2_2 * t1_2 + t2_3 * t1_1\r\n",
        "  t3_6 = t2_4 * t1_2\r\n",
        "  t4_4 = t2_2 * t2_2\r\n",
        "  t4_5 = 2. * (t2_2 * t2_3)\r\n",
        "  t4_6 = 2. * (t2_2 * t2_4) + t2_3 * t2_3\r\n",
        "  t4_7 = 2. * (t2_3 * t2_4)\r\n",
        "  t4_8 = t2_4 * t2_4\r\n",
        "  t5_6 = t4_4 * t1_2 + t4_5 * t1_1\r\n",
        "  t5_8 = t4_6 * t1_2 + t4_7 * t1_1\r\n",
        "  t5_10 = t4_8 * t1_2\r\n",
        "  t6_6 = t4_4 * t2_2\r\n",
        "  t6_7 = t4_4 * t2_3 + t4_5 * t2_2\r\n",
        "  t6_8 = t4_4 * t2_4 + t4_5 * t2_3 + t4_6 * t2_2\r\n",
        "  t6_9 = t4_5 * t2_4 + t4_6 * t2_3 + t4_7 * t2_2\r\n",
        "  t6_10 = t4_6 * t2_4 + t4_7 * t2_3 + t4_8 * t2_2\r\n",
        "  t7_8 = t6_6 * t1_2 + t6_7 * t1_1\r\n",
        "  t7_10 = t6_8 * t1_2 + t6_9 * t1_1\r\n",
        "  t8_8 = t6_6 * t2_2\r\n",
        "  t8_9 = t6_6 * t2_3 + t6_7 * t2_2\r\n",
        "  t8_10 = t6_6 * t2_4 + t6_7 * t2_3 + t6_8 * t2_2\r\n",
        "  t9_10 = t8_8 * t1_2 + t8_9 * t1_1\r\n",
        "  t10_10 = t8_8 * t2_2\r\n",
        "  u = 1.\r\n",
        "  u -= (1./24.) * t2_2 + (1./160.) * t2_4\r\n",
        "  u += (1./1920.) * t4_4 + (1./10752.) * t4_6 + (1./55296.) * t4_8\r\n",
        "  u -= (1./322560.) * t6_6 + (1./1658880.) * t6_8 + (1./8110080.) * t6_10\r\n",
        "  u += (1./92897280.) * t8_8 + (1./454164480.) * t8_10\r\n",
        "  u -= 2.4464949595157930e-11 * t10_10\r\n",
        "  v = (1./12.) * t1_2\r\n",
        "  v -= (1./480.) * t3_4 + (1./2688.) * t3_6\r\n",
        "  v += (1./53760.) * t5_6 + (1./276480.) * t5_8 + (1./1351680.) * t5_10\r\n",
        "  v -= (1./11612160.) * t7_8 + (1./56770560.) * t7_10\r\n",
        "  v += 2.4464949595157932e-10 * t9_10\r\n",
        "  return (u, v)\r\n",
        "\r\n",
        "def integ_euler_12n(k0, k1, n):\r\n",
        "  th1 = k0\r\n",
        "  th2 = 0.5 * k1\r\n",
        "  ds =  1.0 / n\r\n",
        "\r\n",
        "  k0 *= ds\r\n",
        "  k1 *= ds\r\n",
        "\r\n",
        "  x = 0.0\r\n",
        "  y = 0.0\r\n",
        "  s = 0.5 * ds - 0.5\r\n",
        "\r\n",
        "  for i in range(n):\r\n",
        "    km0 = k1 * s + k0\r\n",
        "    km1 = k1 * ds\r\n",
        "\r\n",
        "    (u, v) = integ_euler_12(km0, km1)\r\n",
        "\r\n",
        "    th = (th2 * s + th1) * s\r\n",
        "    cth = cos(th)\r\n",
        "    sth = sin(th)\r\n",
        "\r\n",
        "    x += cth * u - sth * v\r\n",
        "    y += cth * v + sth * u\r\n",
        "    s += ds\r\n",
        "  return (x * ds, y * ds)\r\n",
        "\r\n",
        "def integ_euler(k0, k1, accuracy = 1e-9):\r\n",
        "  k0max = abs(k0) + 0.5 * abs(k1)\r\n",
        "  est_err_raw = 0.006 * k0max ** 2 + 0.029 * abs(k1)\r\n",
        "  est_err = est_err_raw ** 6\r\n",
        "  if est_err < accuracy:\r\n",
        "    return integ_euler_12(k0, k1)\r\n",
        "  else:\r\n",
        "    if isnan(est_err_raw / accuracy ** (1./6)):\r\n",
        "      print(k0, k1, accuracy)\r\n",
        "    n = int(ceil(est_err_raw / accuracy ** (1./6)))\r\n",
        "    return integ_euler_12n(k0, k1, n)\r\n",
        "\r\n",
        "integ_euler(1, 0)"
      ],
      "execution_count": 3,
      "outputs": [
        {
          "output_type": "execute_result",
          "data": {
            "text/plain": [
              "(0.9588510772083668, 0.0)"
            ]
          },
          "metadata": {
            "tags": []
          },
          "execution_count": 3
        }
      ]
    },
    {
      "cell_type": "markdown",
      "metadata": {
        "id": "1FV7HKdIgAKA"
      },
      "source": [
        "This is an implementation of section 8.2 of the thesis. The secant method converges quadratically, so even ridiculously small error bounds are cheap to compute. The precision is misleading though, unless the `integ_euler` logic above were recalibrated with corresponding accuracy.\r\n",
        "\r\n",
        "Also note that the initial calculation of `k1` is approximated using 3rd order polynomials, as opposed to the 1st order approximation in the thesis. The next passage will be trying to develop a 2D Taylor's series from numerical evaluation, using this function as the source of truth."
      ]
    },
    {
      "cell_type": "code",
      "metadata": {
        "colab": {
          "base_uri": "https://localhost:8080/"
        },
        "id": "lgFzXmvxUYQ8",
        "outputId": "6cc83777-4153-4d76-ae71-c62ff1bf9b36"
      },
      "source": [
        "def fit_euler(th0, th1):\r\n",
        "    k1_old = 0.0\r\n",
        "    dth = th1 - th0\r\n",
        "    k0 = th0 + th1\r\n",
        "    k1 = (6.0 - (1./70.) * dth * dth - 0.1 * k0 * k0) * dth\r\n",
        "    error_old = dth\r\n",
        "    for i in range(10):\r\n",
        "        (u, v) = integ_euler(k0, k1, 1e-15)\r\n",
        "        chth = arctan2(v, u)\r\n",
        "        error = dth - (0.25 * k1 - 2.0 * chth)\r\n",
        "        if abs(error) < 5e-15:\r\n",
        "            chord = hypot(u, v)\r\n",
        "            return (k0, k1, chord, chth)\r\n",
        "        new_k1 = k1 + (k1_old - k1) * error / (error - error_old)\r\n",
        "        k1_old = k1\r\n",
        "        error_old = error\r\n",
        "        k1 = new_k1\r\n",
        "\r\n",
        "fit_euler(0.01, -0.01)"
      ],
      "execution_count": 4,
      "outputs": [
        {
          "output_type": "execute_result",
          "data": {
            "text/plain": [
              "(0.0, -0.11999988571398887, 0.9999900000547617, -0.004999985714248608)"
            ]
          },
          "metadata": {
            "tags": []
          },
          "execution_count": 4
        }
      ]
    },
    {
      "cell_type": "markdown",
      "metadata": {
        "id": "xMZY1nWshozN"
      },
      "source": [
        "The basic approach I use here is [central difference](https://en.wikipedia.org/wiki/Finite_difference), generalized to 2 dimensions. This is okay, but it feels like it's possible to do better. In particular, I think the accuracy of the higher order coefficients is not great. To do better, I'd explore Chebyshev techniques. Unfortunately, while NumPy has pretty good infrastructure for Chebyshev in 1D, it's lacking 2D. Obviously [chebfun](https://www.chebfun.org/) would be a much richer infrastructure, but would require switching to Matlab."
      ]
    },
    {
      "cell_type": "code",
      "metadata": {
        "id": "i5WQ-JT6WJQU"
      },
      "source": [
        "def est_derivs(f, nx, ny, delta):\r\n",
        "  width = 11\r\n",
        "  for j in range(ny):\r\n",
        "    jwts = central_diff_weights(width, ndiv = j)\r\n",
        "    for i in range(nx):\r\n",
        "      sum = 0\r\n",
        "      wts = central_diff_weights(width, ndiv = i)\r\n",
        "      for y, cy in enumerate(jwts):\r\n",
        "        yy = delta * (y - 0.5 * (width - 1))\r\n",
        "        for x, cx in enumerate(wts):\r\n",
        "          xx = delta * (x - 0.5 * (width - 1))\r\n",
        "          sum += cx * cy * f(xx, yy)\r\n",
        "        #print('->', cx, xx)\r\n",
        "      sum /= delta ** (i + j)\r\n",
        "      print(i, j, sum)\r\n",
        "\r\n",
        "#est_derivs(lambda x, y: fit_euler(0.5 * (y - x), 0.5 * (x + y))[1], 8, 8, .1)"
      ],
      "execution_count": 5,
      "outputs": []
    },
    {
      "cell_type": "markdown",
      "metadata": {
        "id": "sXo2gBnJjFUi"
      },
      "source": [
        "Here's the same basic algorithm, but adapted to generate code to evaluate the Taylor's series that results from the derivatives. Zero coefficients are suppressed, and it also evaluates a triangle rather than a square, so the total order is bounded."
      ]
    },
    {
      "cell_type": "code",
      "metadata": {
        "colab": {
          "base_uri": "https://localhost:8080/"
        },
        "id": "KE07GftVvglL",
        "outputId": "3afdf969-9cbe-4b4e-e441-86fb366f231b"
      },
      "source": [
        "def fmt_coeff(base, exponent):\r\n",
        "  if exponent == 0:\r\n",
        "    return ''\r\n",
        "  elif exponent == 1:\r\n",
        "    return base + ' * '\r\n",
        "  else:\r\n",
        "    return '{} ** {} * '.format(base, exponent)\r\n",
        "\r\n",
        "def round_recip(x):\r\n",
        "  x_recip = 1 / x\r\n",
        "  if abs(x) > 0.5 and abs(round(x) - x) < 1e-9:\r\n",
        "    return '{}'.format(round(x))\r\n",
        "  if abs(round(x_recip) - x_recip) < 0.01:\r\n",
        "    return '(1. / {}.)'.format(round(x_recip))\r\n",
        "  else:\r\n",
        "    return '{}'.format(x)\r\n",
        "\r\n",
        "def est_coeffs(f, n, delta):\r\n",
        "  width = 11\r\n",
        "  for j in range(n + 1):\r\n",
        "    jwts = central_diff_weights(width, ndiv = j)\r\n",
        "    for i in range(n - j + 1):\r\n",
        "      sum = 0\r\n",
        "      wts = central_diff_weights(width, ndiv = i)\r\n",
        "      for y, cy in enumerate(jwts):\r\n",
        "        yy = delta * (y - 0.5 * (width - 1))\r\n",
        "        for x, cx in enumerate(wts):\r\n",
        "          xx = delta * (x - 0.5 * (width - 1))\r\n",
        "          sum += cx * cy * f(xx, yy)\r\n",
        "        #print('->', cx, xx)\r\n",
        "      sum /= delta ** (i + j)\r\n",
        "      sum /= math.factorial(i) * math.factorial(j)\r\n",
        "      if abs(sum) > 1e-9:\r\n",
        "        #print(i, j, sum, 1/sum)\r\n",
        "        print('  est += {}{}{}'.format(fmt_coeff('dth', i), fmt_coeff('k0', j), round_recip(sum)))\r\n",
        "\r\n",
        "est_coeffs(lambda x, y: fit_euler(0.5 * (y - x), 0.5 * (x + y))[1], 7, .1)"
      ],
      "execution_count": 6,
      "outputs": [
        {
          "output_type": "stream",
          "text": [
            "  est += dth * 6\n",
            "  est += dth ** 3 * (1. / -70.)\n",
            "  est += dth ** 5 * (1. / -10780.)\n",
            "  est += dth ** 7 * 2.769178184818219e-07\n",
            "  est += dth * k0 ** 2 * (1. / -10.)\n",
            "  est += dth ** 3 * k0 ** 2 * (1. / 4200.)\n",
            "  est += dth ** 5 * k0 ** 2 * 1.6959677820260655e-05\n",
            "  est += dth * k0 ** 4 * (1. / -1400.)\n",
            "  est += dth ** 3 * k0 ** 4 * 6.84915970574303e-05\n",
            "  est += dth * k0 ** 6 * -7.936475029053326e-06\n"
          ],
          "name": "stdout"
        }
      ]
    },
    {
      "cell_type": "markdown",
      "metadata": {
        "id": "JNxYNQ-zj4sF"
      },
      "source": [
        "And here are functions based on `est_coeffs` above, usually going up to 7th order polynomials, and in some cases with hand tuning. I believe (without any kind of proof) that the coefficients are reciprocals of integers, which is pretty clear for many of the lower order terms (and I've tweaked the formatting code to round to the reciprocal), but accuracy degrades beyond that. If we could calculate the derivates more accurately and this hypothesis is true, we should be able to get the exact values by rounding the reciprocals.\r\n",
        "\r\n",
        "In theory it should be possible to get exact values analytically as well (as is done in the thesis to the first order), but that seems challenging."
      ]
    },
    {
      "cell_type": "code",
      "metadata": {
        "colab": {
          "base_uri": "https://localhost:8080/"
        },
        "id": "XUu6H_g1jP8u",
        "outputId": "3a1195f3-4e4b-4502-de80-2d1cba936ffc"
      },
      "source": [
        "def est_k1(th0, th1):\r\n",
        "  k0 = th0 + th1\r\n",
        "  dth = th1 - th0\r\n",
        "  est = dth * 6\r\n",
        "  est += dth ** 3 * (1. / -70.)\r\n",
        "  est += dth ** 5 * (1. / -10780.)\r\n",
        "  est += dth ** 7 * 2.769178184818219e-07\r\n",
        "  est += dth * k0 ** 2 * (1. / -10.)\r\n",
        "  est += dth ** 3 * k0 ** 2 * (1. / 4200.)\r\n",
        "  est += dth ** 5 * k0 ** 2 * 1.6959677820260655e-05\r\n",
        "  est += dth * k0 ** 4 * (1. / -1400.)\r\n",
        "  est += dth ** 3 * k0 ** 4 * 6.84915970574303e-05\r\n",
        "  est += dth * k0 ** 6 * -7.936475029053326e-06\r\n",
        "  return est\r\n",
        "\r\n",
        "def e(th0, th1):\r\n",
        "  return fit_euler(th0, th1)[1] - est_k1(th0, th1)\r\n",
        "\r\n",
        "e(0.6, -0.6)"
      ],
      "execution_count": 7,
      "outputs": [
        {
          "output_type": "execute_result",
          "data": {
            "text/plain": [
              "-7.603220364416075e-08"
            ]
          },
          "metadata": {
            "tags": []
          },
          "execution_count": 7
        }
      ]
    },
    {
      "cell_type": "markdown",
      "metadata": {
        "id": "ya34ULkelFO9"
      },
      "source": [
        "The other values from `fit_euler` can also be approximated using a 2D Taylor's series. It's *probably* a win to compute these directly rather than hitting `integ_euler` after getting a value for k1, but likely not a huge win, as the latter should be pretty cheap.\r\n",
        "\r\n",
        "Again the low order coefficients are reciprocals of integers.\r\n",
        "\r\n",
        "Note that if k1 = 0, this is equal to sinc(k1/2), which certainly predicts the coefficients for the terms involving k0 only."
      ]
    },
    {
      "cell_type": "code",
      "metadata": {
        "colab": {
          "base_uri": "https://localhost:8080/"
        },
        "id": "OmzAZ763phFp",
        "outputId": "000af3d3-8058-4e06-e3d5-5100104ffe6c"
      },
      "source": [
        "def est_ch(th0, th1):\r\n",
        "  k0 = th0 + th1\r\n",
        "  dth = th1 - th0\r\n",
        "  est = 1\r\n",
        "  est += dth ** 2 * (1. / -40.)\r\n",
        "  est += dth ** 4 * 0.00034226190482569864\r\n",
        "  est += dth ** 6 * -1.9349474568904524e-06\r\n",
        "  est += k0 ** 2 * (1. / -24.)\r\n",
        "  est += dth ** 2 * k0 ** 2 * 0.0024702380951963226\r\n",
        "  est += dth ** 4 * k0 ** 2 * -3.7297408997537985e-05\r\n",
        "  est += k0 ** 4 * (1. / 1920.)\r\n",
        "  est += dth ** 2 * k0 ** 4 * -4.87350869747975e-05\r\n",
        "  est += k0 ** 6 * -3.1001936068463107e-06\r\n",
        "  return est\r\n",
        "\r\n",
        "def e_ch(th0, th1):\r\n",
        "  return fit_euler(th0, th1)[2] - est_ch(th0, th1)\r\n",
        "\r\n",
        "e_ch(0.6, -0.6)"
      ],
      "execution_count": 8,
      "outputs": [
        {
          "output_type": "execute_result",
          "data": {
            "text/plain": [
              "5.405147440740166e-09"
            ]
          },
          "metadata": {
            "tags": []
          },
          "execution_count": 8
        }
      ]
    },
    {
      "cell_type": "code",
      "metadata": {
        "colab": {
          "base_uri": "https://localhost:8080/"
        },
        "id": "x3nI0Cki0HU_",
        "outputId": "5f04edb2-9a13-44e8-bfe8-c878cde46891"
      },
      "source": [
        "def est_chth(th0, th1):\r\n",
        "  k0 = th0 + th1\r\n",
        "  dth = th1 - th0\r\n",
        "  return 0.125 * est_k1(th0, th1) - 0.5 * dth\r\n",
        "\r\n",
        "def e_chth(th0, th1):\r\n",
        "  return fit_euler(th0, th1)[3] - est_chth(th0, th1)\r\n",
        "\r\n",
        "e_chth(0.9, -0.9)"
      ],
      "execution_count": 9,
      "outputs": [
        {
          "output_type": "execute_result",
          "data": {
            "text/plain": [
              "-3.6938566355670943e-07"
            ]
          },
          "metadata": {
            "tags": []
          },
          "execution_count": 9
        }
      ]
    },
    {
      "cell_type": "markdown",
      "metadata": {
        "id": "jZTZpdB_q3EZ"
      },
      "source": [
        "Here we introduce an Euler spiral segment and code to approximate its parallel curve.\r\n",
        "\r\n",
        "It's worth discussing the error metric. It's basically the L2 norm of the distance error between the two curves when evaluated with arclength parametrization. It's expected to correlate strongly with Hausdorff distance, but be more tractable to evaluate. The points are evenly sampled (by arclength) on the Euler spiral, and the exact arclength parametrization from the Wieleitner paper (attributed to Cesàro)."
      ]
    },
    {
      "cell_type": "code",
      "metadata": {
        "id": "b3vU_tED9b8l"
      },
      "source": [
        "class Point:\r\n",
        "  def __init__(self, x, y):\r\n",
        "    self.x = x\r\n",
        "    self.y = y\r\n",
        "\r\n",
        "  def __repr__(self):\r\n",
        "    return 'Point({}, {})'.format(self.x, self.y)\r\n",
        "\r\n",
        "  def __sub__(self, other):\r\n",
        "    return Point(self.x - other.x, self.y - other.y)\r\n",
        "\r\n",
        "  def __add__(self, other):\r\n",
        "    return Point(self.x + other.x, self.y + other.y)\r\n",
        "\r\n",
        "  def __rmul__(self, other):\r\n",
        "    return Point(other * self.x, other * self.y)\r\n",
        "\r\n",
        "  def hypot2(self):\r\n",
        "    return self.x ** 2 + self.y ** 2\r\n",
        "\r\n",
        "  def hypot(self):\r\n",
        "    return hypot(self.x, self.y)\r\n",
        "\r\n",
        "  @staticmethod\r\n",
        "  def from_angle(th):\r\n",
        "    return Point(cos(th), sin(th))\r\n",
        "\r\n",
        "class ApproxResult:\r\n",
        "  def __init__(self, seg, dth):\r\n",
        "    self.seg = seg\r\n",
        "    self.dth = dth\r\n",
        "\r\n",
        "class EulerSeg:\r\n",
        "  # th0 and th1 are deflections relative to the chord\r\n",
        "  def __init__(self, p0, p1, th0, th1):\r\n",
        "    self.params = fit_euler(th0, th1)\r\n",
        "    self.p0 = p0\r\n",
        "    self.p1 = p1\r\n",
        "\r\n",
        "  def arclen(self):\r\n",
        "    return hypot(self.p0.y - self.p1.y, self.p0.x - self.p1.x) / self.params[2]\r\n",
        "\r\n",
        "  # return theta relative to chord.\r\n",
        "  # Sign is confusing (= -th0 at t = 0, th1 at t = 1), but matches spiro code\r\n",
        "  def th(self, t):\r\n",
        "    u = t - 0.5\r\n",
        "    return (0.5 * self.params[1] * u + self.params[0]) * u - self.params[3]\r\n",
        "\r\n",
        "  def eval(self, t):\r\n",
        "    thm = self.th(t * 0.5)\r\n",
        "    k0 = self.params[0]\r\n",
        "    k1 = self.params[1]\r\n",
        "    u, v = integ_euler((k0 + k1 * 0.5 * (t - 1.0)) * t, k1 * t * t)\r\n",
        "    s = t / self.params[2] * sin(thm)\r\n",
        "    c = t / self.params[2] * cos(thm)\r\n",
        "    x = u * c - v * s\r\n",
        "    y = -v * c - u * s\r\n",
        "    xx = self.p0.x + (self.p1.x - self.p0.x) * x - (self.p1.y - self.p0.y) * y\r\n",
        "    yy = self.p0.y + (self.p1.x - self.p0.x) * y + (self.p1.y - self.p0.y) * x\r\n",
        "    return Point(xx, yy)\r\n",
        "\r\n",
        "  # return the actual signed curvature\r\n",
        "  def curvature(self, t):\r\n",
        "    k = self.params[0] + self.params[1] * (t - 0.5)\r\n",
        "    return k / self.arclen()\r\n",
        "\r\n",
        "  # Approximate a parallel curve\r\n",
        "  def approx_parallel(self, offset):\r\n",
        "    chord_scale = offset / hypot(self.p1.y - self.p0.y, self.p1.x - self.p0.x)\r\n",
        "    x0 = chord_scale * sin(self.th(0))\r\n",
        "    y0 = chord_scale * cos(self.th(0))\r\n",
        "    x1 = chord_scale * sin(self.th(1))\r\n",
        "    y1 = chord_scale * cos(self.th(1))\r\n",
        "    dth = arctan2(y1 - y0, 1 + x1 - x0)\r\n",
        "    p0 = Point(self.p0.x + x0, self.p0.y + y0)\r\n",
        "    p1 = Point(self.p1.x + x1, self.p1.y + y1)\r\n",
        "    seg = EulerSeg(p0, p1, -self.th(0) - dth, self.th(1) + dth)\r\n",
        "    return ApproxResult(seg, dth)\r\n",
        "\r\n",
        "  # assume 0,0 - 1,0 chord in source for simplicity\r\n",
        "  def approx_parallel_err(self, offset, n = 10):\r\n",
        "    approx = self.approx_parallel(offset)\r\n",
        "    sum = 0\r\n",
        "    pts = []\r\n",
        "    pts2 = []\r\n",
        "    t_scale = offset * self.params[2]\r\n",
        "    t0 = t_scale * self.th(0)\r\n",
        "    t1 = 1 + t_scale * self.th(1)\r\n",
        "    for i in range(-1, n + 1):\r\n",
        "      # parameter at base\r\n",
        "      t = (i + 1.0) / (n + 1.0)\r\n",
        "      base = self.eval(t)\r\n",
        "      th = self.th(t)\r\n",
        "      actual = Point(base.x + offset * sin(th), base.y + offset * cos(th))\r\n",
        "      pts.append(actual)\r\n",
        "      t_mapped = (t + t_scale * th - t0) / (t1 - t0)\r\n",
        "      pts2.append(approx.seg.eval(t_mapped))\r\n",
        "      sum += (actual - approx.seg.eval(t_mapped)).hypot2()\r\n",
        "    sum = sqrt(sum / (n + 1.0))\r\n",
        "    return (sum, pts, pts2)\r\n",
        "\r\n",
        "  def est_err2(self, offset):\r\n",
        "    chord_scale = offset / hypot(self.p1.y - self.p0.y, self.p1.x - self.p0.x)\r\n",
        "    x0 = chord_scale * sin(self.th(0))\r\n",
        "    y0 = chord_scale * cos(self.th(0))\r\n",
        "    x1 = chord_scale * sin(self.th(1))\r\n",
        "    y1 = chord_scale * cos(self.th(1))\r\n",
        "    return hypot(x0 + x1, y0 - y1)\r\n",
        "\r\n",
        "def est_err(th0, th1, offset):\r\n",
        "  return 0.179284 * (th0 - th1) ** 2 * offset\r\n",
        "\r\n",
        "\r\n"
      ],
      "execution_count": 10,
      "outputs": []
    },
    {
      "cell_type": "markdown",
      "metadata": {
        "id": "Y_h2Kp2AtCMk"
      },
      "source": [
        "I kept this image partly because it's pretty. It's a series of approximations of parallel curves from the original Euler spiral, each of which is an Euler spiral determined from geometric (G1) Hermite interpolation. Obviously as the offset increases, the true parallel curve gets a cusp, but the Euler spirals don't reflect that."
      ]
    },
    {
      "cell_type": "code",
      "metadata": {
        "colab": {
          "base_uri": "https://localhost:8080/",
          "height": 265
        },
        "id": "5X2A6edcTk4y",
        "outputId": "cb8e6154-42b4-47c8-deac-5268249f2a41"
      },
      "source": [
        "es = EulerSeg(Point(0, 0), Point(1, 0), -1, -0)\r\n",
        "def plot_es(es):\r\n",
        "  pts = [es.eval(t) for t in linspace(0, 1, 50)]\r\n",
        "  plt.plot([p.x for p in pts], [p.y for p in pts])\r\n",
        "plt.axes().set_aspect('equal')\r\n",
        "plot_es(es)\r\n",
        "for i in range(10):\r\n",
        "  plot_es(es.approx_parallel(0.1 * (i + 1)).seg)"
      ],
      "execution_count": 11,
      "outputs": [
        {
          "output_type": "display_data",
          "data": {
            "image/png": "[encoded data removed]",
            "text/plain": [
              "<Figure size 432x288 with 1 Axes>"
            ]
          },
          "metadata": {
            "tags": [],
            "needs_background": "light"
          }
        }
      ]
    },
    {
      "cell_type": "markdown",
      "metadata": {
        "id": "2b6n1tkftmGp"
      },
      "source": [
        "Here's a plot of an Euler spiral segment approximation and a true parallel curve, very close to a cusp."
      ]
    },
    {
      "cell_type": "code",
      "metadata": {
        "colab": {
          "base_uri": "https://localhost:8080/",
          "height": 282
        },
        "id": "b1ZKV-TFQ17s",
        "outputId": "2827d3b2-36d0-47ee-a4f6-0793b9ab3318"
      },
      "source": [
        "a = -0.3\r\n",
        "b = a - 0.1\r\n",
        "offset = 1.1\r\n",
        "seg = EulerSeg(Point(0, 0), Point(1, 0), a, b)\r\n",
        "approx = seg.approx_parallel(offset)\r\n",
        "err, pts, pts2 = seg.approx_parallel_err(offset)\r\n",
        "plt.axes().set_aspect('equal')\r\n",
        "plt.plot([p.x for p in pts], [p.y for p in pts])\r\n",
        "plt.plot([p.x for p in pts2], [p.y for p in pts2])\r\n",
        "plot_es(seg)\r\n",
        "#plot_es(approx.seg)\r\n",
        "#(err, est_err(a, b, offset))\r\n",
        "\r\n",
        "# The following estimate works ok when k0 is large wrt\r\n",
        "# k1, but nulls out when k0 = 0\r\n",
        "#(err, 0.02935 * approx.dth)\r\n",
        "\r\n",
        "(err, seg.approx_parallel_err(offset, n = 1)[0])\r\n",
        "\r\n",
        "#(err, 0.04 * seg.est_err2(offset))"
      ],
      "execution_count": 12,
      "outputs": [
        {
          "output_type": "execute_result",
          "data": {
            "text/plain": [
              "(0.006719802334824395, 0.0063379668234947876)"
            ]
          },
          "metadata": {
            "tags": []
          },
          "execution_count": 12
        },
        {
          "output_type": "display_data",
          "data": {
            "image/png": "[encoded data removed]",
            "text/plain": [
              "<Figure size 432x288 with 1 Axes>"
            ]
          },
          "metadata": {
            "tags": [],
            "needs_background": "light"
          }
        }
      ]
    },
    {
      "cell_type": "markdown",
      "metadata": {
        "id": "P6NGoxE7twMj"
      },
      "source": [
        "This plot is strong empirical evidence that error scales as the reciprocal of the distance of the *midpoint* to the cusp."
      ]
    },
    {
      "cell_type": "code",
      "metadata": {
        "colab": {
          "base_uri": "https://localhost:8080/",
          "height": 282
        },
        "id": "BmaLMGSDcALr",
        "outputId": "c5895c65-d732-4566-c042-d4eb118f85f4"
      },
      "source": [
        "a = -0.6\r\n",
        "b = a - 0.01\r\n",
        "es = EulerSeg(Point(0, 0), Point(1, 0), a, b)\r\n",
        "xs = []\r\n",
        "ys = []\r\n",
        "for x in linspace(0.01, 0.87):\r\n",
        "  xs.append(x)\r\n",
        "  err, pts, pts2 = es.approx_parallel_err(x)\r\n",
        "  y = x/err\r\n",
        "  ys.append(abs(y))\r\n",
        "plt.plot(xs, ys)\r\n"
      ],
      "execution_count": 13,
      "outputs": [
        {
          "output_type": "execute_result",
          "data": {
            "text/plain": [
              "[<matplotlib.lines.Line2D at 0x7f56fca8d390>]"
            ]
          },
          "metadata": {
            "tags": []
          },
          "execution_count": 13
        },
        {
          "output_type": "display_data",
          "data": {
            "image/png": "[encoded data removed]",
            "text/plain": [
              "<Figure size 432x288 with 1 Axes>"
            ]
          },
          "metadata": {
            "tags": [],
            "needs_background": "light"
          }
        }
      ]
    },
    {
      "cell_type": "code",
      "metadata": {
        "colab": {
          "base_uri": "https://localhost:8080/"
        },
        "id": "mWjaT1PaNAxx",
        "outputId": "b07b289f-1bee-4e4b-bcdb-b7d890a3d8d0"
      },
      "source": [
        "2/(es.curvature(0) + es.curvature(1))\r\n",
        "ctr = 1/(es.params[0] * es.params[2])\r\n",
        "ctr"
      ],
      "execution_count": 14,
      "outputs": [
        {
          "output_type": "execute_result",
          "data": {
            "text/plain": [
              "-0.8791042224513504"
            ]
          },
          "metadata": {
            "tags": []
          },
          "execution_count": 14
        }
      ]
    },
    {
      "cell_type": "markdown",
      "metadata": {
        "id": "WE-ygbrLuBNk"
      },
      "source": [
        "And here's a simple analytical formula for estimating the error of approximating the parallel curve of an Euler spiral with another Euler spiral. It's worked out empirically, but predicts the measured error well."
      ]
    },
    {
      "cell_type": "code",
      "metadata": {
        "colab": {
          "base_uri": "https://localhost:8080/"
        },
        "id": "NoiZeJZcQnwM",
        "outputId": "5883eb3d-2391-4fc2-a0ef-2f1417c269ff"
      },
      "source": [
        "a = -0.3\r\n",
        "b = a - 0.1\r\n",
        "offset = 1.0\r\n",
        "es = EulerSeg(Point(0, 0), Point(1, 0), a, b)\r\n",
        "# This is a pretty good estimate.\r\n",
        "def new_est_err(es, offset):\r\n",
        "  radius = 1/(es.params[0] * es.params[2])\r\n",
        "  return 0.00499 * abs(offset * radius / (offset + radius) * es.params[1] ** 2 / es.params[2])\r\n",
        "#new_est_err(es, offset) / es.approx_parallel_err(offset)[0], es.params\r\n",
        "\r\n",
        "# Algebraic reformulation, probably easier to work with\r\n",
        "def new_est_err_2(es, offset):\r\n",
        "  k0 = es.params[0] * es.params[2]\r\n",
        "  return 0.00499 * abs(1 / (k0 + 1/offset) * es.params[1] ** 2) / es.params[2]\r\n",
        "new_est_err_2(es, offset), new_est_err(es, offset)\r\n"
      ],
      "execution_count": 15,
      "outputs": [
        {
          "output_type": "execute_result",
          "data": {
            "text/plain": [
              "(0.0057385348684406345, 0.005738534868440635)"
            ]
          },
          "metadata": {
            "tags": []
          },
          "execution_count": 15
        }
      ]
    },
    {
      "cell_type": "markdown",
      "metadata": {
        "id": "e3Ph2Iqxvqq4"
      },
      "source": [
        "This is some somewhat tricky logic for analytically determining the subdivisions for approximating an Euler spiral parallel curve. Basically, the goals are: all errors should be under the given threshold, and within that constraint, the number of subdivisions should be minimal. That implies that the error of each subdivision is equal.\r\n",
        "\r\n",
        "The fundamental insight here is that if the subdivision points (as measured on the source curve) are chosen as $s = s_0 + (i \\cdot \\Delta s)^\\frac{4}{3}$, where $s_0$ is the location of the cusp, then errors will be approximately equal. In fact, the error is *slightly* lower just near the cusp, "
      ]
    },
    {
      "cell_type": "code",
      "metadata": {
        "colab": {
          "base_uri": "https://localhost:8080/"
        },
        "id": "aq-U-XsJ6X9f",
        "outputId": "38b79900-53d6-4b18-ee93-8ff9a1ad8371"
      },
      "source": [
        "# Here c, is min s / max s, where s is distance from cusp\r\n",
        "def predict_rel(c):\r\n",
        "  return (4./3. * (1 - (1 - c) ** .75) / c) ** 4 * (1 - .5 * c)\r\n",
        "def spl(t0, t1, n = 10):\r\n",
        "  c0 = t0 ** 0.75\r\n",
        "  dt = (t1 ** 0.75 - c0) / n\r\n",
        "  return [((c0 + i * dt) ** (4./3.) - t0) / (t1 - t0) for i in range(n+1)]\r\n",
        "def subdiv(es, offset, thresh):\r\n",
        "  e = new_est_err_2(es, offset)\r\n",
        "  k0 = es.params[0] * es.params[2]\r\n",
        "  t0 = abs(k0 + 1/offset) - 0.5 * abs(es.params[1] * es.params[2])\r\n",
        "  t1 = abs(k0 + 1/offset) + 0.5 * abs(es.params[1] * es.params[2])\r\n",
        "  if t0 < 0:\r\n",
        "    print('cusp at', -t0 / (t1 - t0))\r\n",
        "    t0 = 0\r\n",
        "  print(t0, t1)\r\n",
        "  p = predict_rel(1 - t0/t1)\r\n",
        "  print(e, p, thresh)\r\n",
        "  n = int(ceil((e * p / thresh) ** 0.25))\r\n",
        "  # Note: split assumes cusp is at s < 0 etc; check signs of t0, t1\r\n",
        "  return spl(t0, t1, n)\r\n",
        "\r\n",
        "subdiv(es, offset, 1e-4)"
      ],
      "execution_count": 16,
      "outputs": [
        {
          "output_type": "stream",
          "text": [
            "0.02294503683788801 0.6057969056078494\n",
            "0.0057385348684406345 1.3366077583140041 0.0001\n"
          ],
          "name": "stdout"
        },
        {
          "output_type": "execute_result",
          "data": {
            "text/plain": [
              "[5.952536378197542e-18,\n",
              " 0.25736795635726306,\n",
              " 0.6008390258216808,\n",
              " 1.0000000000000004]"
            ]
          },
          "metadata": {
            "tags": []
          },
          "execution_count": 16
        }
      ]
    },
    {
      "cell_type": "markdown",
      "metadata": {
        "id": "f_elepZLyAF5"
      },
      "source": [
        "This is an experiment in rendering an Euler spiral parallel curve to a cubic Bézier. It's promising, but the choice of control arm lengths feels a bit hacky and heuristic, and it's not clear to me yet how accuracy scales.\r\n",
        "\r\n",
        "It's interesting to note that a cubic Bézier *can* approximate the cusp in an ESPC pretty well, because it can represent an exact [semicubical parabola](https://en.wikipedia.org/wiki/Semicubical_parabola), but that's not especially helpful as you get farther from the cusp.\r\n",
        "\r\n",
        "In any case, the best accuracy scaling you can expect from a direct approach (based on the parabola method for ES control arms, as described in the blog post) is $n^5$ in the zero offset case. I think whether this method is worth pursuing depends on the goals. If the goal is a minimum number of subdivisions into cubic Béziers, then probably the best approach is to do real optimized curve fitting, for which a piecewise Euler spiral representation is likely most efficient. I'll leave this here as possible future work."
      ]
    },
    {
      "cell_type": "code",
      "metadata": {
        "colab": {
          "base_uri": "https://localhost:8080/",
          "height": 146
        },
        "id": "FF8o4akkr5eq",
        "outputId": "401479c2-ee63-4b28-f40b-e7515ebdd549"
      },
      "source": [
        "def offset_to_cubic(es, offset):\r\n",
        "  k0 = es.params[0] * es.params[2]\r\n",
        "  t0 = k0 + 1/offset - 0.5 * es.params[1] * es.params[2]\r\n",
        "  t1 = k0 + 1/offset + 0.5 * es.params[1] * es.params[2]\r\n",
        "  es2 = es.approx_parallel(offset)\r\n",
        "  d = es2.seg.p1 - es2.seg.p0\r\n",
        "  print(t0, t1, es2.seg.params)\r\n",
        "  th0 = -es2.seg.th(0)\r\n",
        "  th1 = es2.seg.th(1)\r\n",
        "  c0, s0 = cos(th0), sin(th0)\r\n",
        "  c1, s1 = cos(th1), sin(th1)\r\n",
        "  r0 = 0.5 + t0 / (t0 + t1)\r\n",
        "  r1 = 0.5 + t1 / (t0 + t1)\r\n",
        "  print(r0, r1)\r\n",
        "  l0 = 2.0 * r0 / (3.0 * (1 + c0))\r\n",
        "  l1 = 2.0 * r1 / (3.0 * (1 + c1))\r\n",
        "  d0 = l0 * Point.from_angle(th0)\r\n",
        "  d1 = -l1 * Point.from_angle(-th1)\r\n",
        "  p1 = es2.seg.p0 + Point(d.x * d0.x - d.y * d0.y, d.x * d0.y + d.y * d0.x)\r\n",
        "  p2 = es2.seg.p1 + Point(d.x * d1.x - d.y * d1.y, d.x * d1.y + d.y * d1.x)\r\n",
        "  return (es2.seg.p0, p1, p2, es2.seg.p1)\r\n",
        "\r\n",
        "# Should be a class, ah well\r\n",
        "def eval_cubic(cubic, t):\r\n",
        "  p0, p1, p2, p3 = cubic\r\n",
        "  mt = 1 - t\r\n",
        "  return mt ** 3 * p0 + 3 * mt * t * (mt * p1 + t * p2) + t ** 3 * p3\r\n",
        "\r\n",
        "def plot_cubic(cubic):\r\n",
        "  pts = [eval_cubic(cubic, t) for t in linspace(0, 1, 50)]\r\n",
        "  plt.plot([p.x for p in pts], [p.y for p in pts])\r\n",
        "\r\n",
        "seg = EulerSeg(Point(0, 0), Point(1, 0), -0.7, 0.3)\r\n",
        "offset = 0.3\r\n",
        "err, pts, pts2 = seg.approx_parallel_err(offset, 50)\r\n",
        "plt.axes().set_aspect('equal')\r\n",
        "plt.plot([p.x for p in pts], [p.y for p in pts])\r\n",
        "plot_cubic(offset_to_cubic(seg, offset))\r\n",
        "#plt.plot([p.x for p in pts2], [p.y for p in pts2])\r\n",
        "#plot_es(seg)\r\n"
      ],
      "execution_count": 17,
      "outputs": [
        {
          "output_type": "stream",
          "text": [
            "0.05318579874202456 5.838220834072745 (-0.3999999999999999, 6.726220666841354, 0.962606922066669, 0.2770390658155192)\n",
            "0.5090276910179282 1.4909723089820717\n"
          ],
          "name": "stdout"
        },
        {
          "output_type": "display_data",
          "data": {
            "image/png": "[encoded data removed]",
            "text/plain": [
              "<Figure size 432x288 with 1 Axes>"
            ]
          },
          "metadata": {
            "tags": [],
            "needs_background": "light"
          }
        }
      ]
    },
    {
      "cell_type": "markdown",
      "metadata": {
        "id": "ywRE-h67gJPr"
      },
      "source": [
        "Following few cells are to establish rigorous error bounds on the Euler integration code."
      ]
    },
    {
      "cell_type": "code",
      "metadata": {
        "colab": {
          "base_uri": "https://localhost:8080/",
          "height": 269
        },
        "id": "kesOZlEuVlDA",
        "outputId": "8eab97c0-08d0-4ffd-b6f1-3c1011f44a2c"
      },
      "source": [
        "def est_integ_euler_err(k0, k1, n = 1):\r\n",
        "  k0max = abs(k0) + 0.5 * abs(k1)\r\n",
        "  est_err_raw = 0.006 * k0max ** 2 + 0.029 * abs(k1)\r\n",
        "  return n ** -12 * est_err_raw ** 6\r\n",
        "\r\n",
        "def actual_integ_euler_err(k0, k1, n = 1):\r\n",
        "  actual = integ_euler_12n(k0, k1, 8)\r\n",
        "  approx = integ_euler_12n(k0, k1, n)\r\n",
        "  err = hypot(actual[0] - approx[0], actual[1] - approx[1])\r\n",
        "  return err\r\n",
        "\r\n",
        "xs = list(linspace(0, 2))[1:]\r\n",
        "k1 = 0.1\r\n",
        "n = 1\r\n",
        "ys1 = []\r\n",
        "ys2 = []\r\n",
        "for k0 in xs:\r\n",
        "  ys1.append(est_integ_euler_err(k0, k1, n))\r\n",
        "  ys2.append(actual_integ_euler_err(k0, k1, n))\r\n",
        "plt.plot(xs, ys1)\r\n",
        "plt.plot(xs, ys2)\r\n",
        "plt.xscale('log')\r\n",
        "plt.yscale('log')"
      ],
      "execution_count": 18,
      "outputs": [
        {
          "output_type": "display_data",
          "data": {
            "image/png": "[encoded data removed]",
            "text/plain": [
              "<Figure size 432x288 with 1 Axes>"
            ]
          },
          "metadata": {
            "tags": [],
            "needs_background": "light"
          }
        }
      ]
    },
    {
      "cell_type": "code",
      "metadata": {
        "colab": {
          "base_uri": "https://localhost:8080/"
        },
        "id": "1sK8KrmC9e0g",
        "outputId": "2effb412-aa4c-483e-85ba-26d1baaabdcf"
      },
      "source": [
        "def check(th0, th1):\r\n",
        "  es = fit_euler(th0, th1)\r\n",
        "  return (es[1], es[1] / 8 - 0.5 * (th1 - th0), es[3])\r\n",
        "check(0.1, 2)"
      ],
      "execution_count": 19,
      "outputs": [
        {
          "output_type": "execute_result",
          "data": {
            "text/plain": [
              "(10.45262364939013, 0.3565779561737663, 0.356577956173766)"
            ]
          },
          "metadata": {
            "tags": []
          },
          "execution_count": 19
        }
      ]
    },
    {
      "cell_type": "code",
      "metadata": {
        "id": "mNEVHHl4cKf-"
      },
      "source": [
        "# Randomized testing to validate the error bound\r\n",
        "n = 3\r\n",
        "for i in range(1000):\r\n",
        "  k0 = rand()\r\n",
        "  k1 = 5 * rand()\r\n",
        "  actual = actual_integ_euler_err(k0, k1)\r\n",
        "  if actual > 1e-14:\r\n",
        "    est = est_integ_euler_err(k0, k1)\r\n",
        "    if est < actual:\r\n",
        "      print(k0, k1, est, actual)"
      ],
      "execution_count": 20,
      "outputs": []
    },
    {
      "cell_type": "code",
      "metadata": {
        "colab": {
          "base_uri": "https://localhost:8080/"
        },
        "id": "DXkCLy9oIant",
        "outputId": "012f1e0a-c8cd-468e-ba69-8ba1c654950e"
      },
      "source": [
        "EulerSeg(Point(0, 0), Point(1, 0), 0.1, 0.2).params"
      ],
      "execution_count": 25,
      "outputs": [
        {
          "output_type": "execute_result",
          "data": {
            "text/plain": [
              "(0.30000000000000004,\n",
              " 0.5990851562066671,\n",
              " 0.9960064696479229,\n",
              " 0.024885644525833393)"
            ]
          },
          "metadata": {
            "tags": []
          },
          "execution_count": 25
        }
      ]
    }
  ]
}